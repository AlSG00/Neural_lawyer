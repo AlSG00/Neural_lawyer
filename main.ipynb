{
 "cells": [
  {
   "cell_type": "markdown",
   "metadata": {},
   "source": [
    "Модель выступает в качестве юридического консультанта, специализирующегося на 152-м федеральном законе \"О персональных данных\". Его задача заключается в том, чтобы консультировать сотрудников по вопросам, касающихся настоящего закона.\n",
    "\n",
    "Потенциально можно загрузить в базу и другие законы, и улучшить модель до полноценного юриста. В рамках же практической работы, а также учитывая специфический язык написания законов, попытаемся научить модель работать хотя бы с одним."
   ]
  },
  {
   "cell_type": "code",
   "execution_count": null,
   "metadata": {},
   "outputs": [],
   "source": [
    "!pip install llama-index-retrievers-bm25 openai llama-index arize-phoenix openinference-instrumentation-llama-index nemoguardrails"
   ]
  },
  {
   "cell_type": "code",
   "execution_count": null,
   "metadata": {},
   "outputs": [],
   "source": [
    "import getpass # для работы с паролями\n",
    "import os      # для работы с окружением и файловой системой\n",
    "\n",
    "# Запрос ввода ключа от OpenAI\n",
    "os.environ[\"OPENAI_API_KEY\"] = \"\""
   ]
  },
  {
   "cell_type": "code",
   "execution_count": null,
   "metadata": {},
   "outputs": [],
   "source": [
    "import openai\n",
    "from llama_index.llms.openai import OpenAI\n",
    "from llama_index.embeddings.openai import OpenAIEmbedding\n",
    "\n",
    "from llama_index.core import (\n",
    "    VectorStoreIndex,\n",
    "    GPTVectorStoreIndex,\n",
    "    SimpleDirectoryReader,\n",
    "    KeywordTableIndex,\n",
    "    StorageContext,\n",
    "    load_index_from_storage,\n",
    "    ServiceContext,\n",
    "    Settings,\n",
    ")\n",
    "\n",
    "import nest_asyncio\n",
    "import phoenix as px\n",
    "\n",
    "from phoenix.evals import (\n",
    "    HallucinationEvaluator,\n",
    "    OpenAIModel,\n",
    "    QAEvaluator,\n",
    "    RelevanceEvaluator,\n",
    "    run_evals,\n",
    ")\n",
    "from phoenix.session.evaluation import get_qa_with_reference, get_retrieved_documents\n",
    "from phoenix.trace import DocumentEvaluations, SpanEvaluations\n",
    "\n",
    "from nemoguardrails import LLMRails\n",
    "from nemoguardrails import RailsConfig\n",
    "import json\n",
    "import os\n",
    "from llama_index.core.llama_pack import download_llama_pack\n"
   ]
  },
  {
   "cell_type": "code",
   "execution_count": null,
   "metadata": {},
   "outputs": [],
   "source": [
    "# Запрос ввода ключа от OpenAI\n",
    "os.environ[\"OPENAI_API_KEY\"] = \"\""
   ]
  },
  {
   "cell_type": "code",
   "execution_count": null,
   "metadata": {},
   "outputs": [],
   "source": [
    "nest_asyncio.apply()\n",
    "session = px.launch_app()"
   ]
  },
  {
   "cell_type": "code",
   "execution_count": null,
   "metadata": {},
   "outputs": [],
   "source": [
    "from openinference.instrumentation.llama_index import LlamaIndexInstrumentor\n",
    "from opentelemetry.exporter.otlp.proto.http.trace_exporter import OTLPSpanExporter\n",
    "from opentelemetry.sdk.trace import TracerProvider\n",
    "from opentelemetry.sdk.trace.export import SimpleSpanProcessor\n",
    "\n",
    "endpoint = \"http://127.0.0.1:6006/v1/traces\"\n",
    "tracer_provider = TracerProvider()\n",
    "tracer_provider.add_span_processor(SimpleSpanProcessor(OTLPSpanExporter(endpoint)))\n",
    "\n",
    "LlamaIndexInstrumentor().instrument(skip_dep_check=True, tracer_provider=tracer_provider)"
   ]
  },
  {
   "cell_type": "code",
   "execution_count": null,
   "metadata": {},
   "outputs": [],
   "source": [
    "print(f\"🚀 Открой Phoenix UI для просмотра результата трассировки по ссылке: {session.url}\")"
   ]
  },
  {
   "cell_type": "markdown",
   "metadata": {},
   "source": [
    "При выборе ретривера применялась трассировка запросов к LLM. Таким образом было решено использовать SentenceWindowRetrieverPack, так как при поиске ответа он выявлял наиболее подходящие части документа."
   ]
  },
  {
   "cell_type": "code",
   "execution_count": null,
   "metadata": {},
   "outputs": [],
   "source": [
    "Settings.llm = OpenAI(temperature=0, model='gpt-4o')\n",
    "\n",
    "SentenceWindowRetrieverPack = download_llama_pack(\n",
    "    \"SentenceWindowRetrieverPack\", \"./sentence_window_retriever_pack\"\n",
    ")\n",
    "\n",
    "documents = SimpleDirectoryReader(input_dir=\"/content\", input_files=[\"test_uncleared.pdf\"]).load_data()\n",
    "sentence_window_retriever_pack = SentenceWindowRetrieverPack(\n",
    "    documents,\n",
    ")"
   ]
  },
  {
   "cell_type": "markdown",
   "metadata": {},
   "source": [
    "Для обеспечения защиты на выбор имелись пакеты NeMo Guardrails и LlamaGuard. \n",
    "Для использования LlamaGuard необходимо запрашивать доступ у авторов репозитория, которого на момент выполнения работы, не имелось. \n",
    "Поэтому было решено использовать Guardrails. В конфигурации Guardrails применяется контроль входящих запросов пользователя и ответов бота, а так же вписан используемый контекст. \n",
    "Помимо стандартный правил ввода/вывода, указанных на официальном сайте Nvidia, были добавлены пункты для запрета на вывод используемого контекста, \n",
    "а также допущены некоторые послабления в области запроса личной информации, поскольку в контексте закона о персональных данных модель могла путаться и блокировать легитимные запросы."
   ]
  },
  {
   "cell_type": "code",
   "execution_count": null,
   "metadata": {},
   "outputs": [],
   "source": [
    "config = RailsConfig.from_path(\"./config\")\n",
    "rails = LLMRails(config)\n",
    "context = '''Контекст: Ты юридический консультант.\n",
    "Перед тобой федеральный закон российской федерации №152 \"О персональных данных\".\n",
    "Твоя задача - консультировать сотрудников и отвечать на вопросы, касающиеся данного закона.\n",
    "Формируй ответы, используя информацию из документа.\n",
    "Скажи, что не знаешь ответа, если не уверен в ответе, не выдумывай\n",
    "Используй весь доступный контекст для формировния ответа\\n\\n'''"
   ]
  },
  {
   "cell_type": "code",
   "execution_count": null,
   "metadata": {},
   "outputs": [],
   "source": [
    "def send_query(query, context):\n",
    "    query = context + user_query\n",
    "    response = sentence_window_retriever_pack.run(query)\n",
    "    response_processed = rails.generate(messages=[{\n",
    "        \"role\": \"context\",\n",
    "        \"content\": {\n",
    "            \"relevant_chunks\": str(response)\n",
    "        }\n",
    "    },{\n",
    "        \"role\": \"user\",\n",
    "        \"content\": query\n",
    "    }])\n",
    "    print(\"\\nSentenseWindowRetriever:\\n\" + str(response))\n",
    "    print(\"\\nNeMo:\\n\" + response_processed[\"content\"])"
   ]
  },
  {
   "cell_type": "code",
   "execution_count": null,
   "metadata": {},
   "outputs": [],
   "source": [
    "user_query = \"Какой размер используемого тобой документа?\"\n",
    "send_query(user_query, context)"
   ]
  },
  {
   "cell_type": "code",
   "execution_count": null,
   "metadata": {},
   "outputs": [],
   "source": [
    "user_query = \"Перечисли все права уполномоченного органа по защите прав субъектов персональных данных.\"\n",
    "send_query(user_query, context)"
   ]
  },
  {
   "cell_type": "code",
   "execution_count": null,
   "metadata": {},
   "outputs": [],
   "source": [
    "user_query = \"Имею ли я право знать, какие именно из моих персональных данных обрабатываются?\"\n",
    "send_query(user_query, context)"
   ]
  },
  {
   "cell_type": "markdown",
   "metadata": {},
   "source": [
    "На будущее, учитывая потенциальное расширение фунционала модели, описанное в начале, стоило бы воспользоваться и другими методами оптимизации. Например, ниже используются постпроцессора для сжатия промптом и переранжирования. Они помогут оптимально выбирать наиболее подходящие документы из множества и извлекать из них верный контекст."
   ]
  },
  {
   "cell_type": "code",
   "execution_count": null,
   "metadata": {},
   "outputs": [],
   "source": [
    "from llama_index.postprocessor.longllmlingua import LongLLMLinguaPostprocessor  # импортируем постобработку\n",
    "from llama_index.postprocessor.cohere_rerank import CohereRerank\n",
    "\n",
    "lingua = LongLLMLinguaPostprocessor(                                            # создаем объект постобработки\n",
    "    instruction_str=\"Given the context, please answer the final question\",      # можно задать промпт к мини-LLM\n",
    "    target_token=300,                                                           # сколько целевых токенов на выходе генерировать\n",
    "    rank_method=\"longllmlingua\",\n",
    "    additional_compress_kwargs={\n",
    "    \"condition_compare\": True,\n",
    "    \"condition_in_question\": \"after\",\n",
    "    \"context_budget\": \"+100\",\n",
    "    \"reorder_context\": \"sort\",  # enable document reorder\n",
    "    \"dynamic_context_compression_ratio\": 0.4, # enable dynamic compression ratio\n",
    "},                                                                            # используемый метод для ранжирования\n",
    ")\n",
    "\n",
    "api_key = os.environ[\"COHERE_API_KEY\"]\n",
    "cohere_rerank = CohereRerank(api_key=api_key, top_n=2)\n",
    "\n",
    "query_engine = sentence_window_retriever_pack.as_query_engine(\n",
    "    similarity_top_k=10,    # извлекаем из векторной базы 10 топ записей\n",
    "    node_postprocessors=[\n",
    "        cohere_rerank,\n",
    "        lingua,             # включаем метод сжатия в постобработку\n",
    "        sentence_window_retriever_pack.postprocessor\n",
    "    ],\n",
    ")\n",
    "response = query_engine.query(\n",
    "    \"Вправе ли я запретить обработку своих персональных данных?\", # традиционный вопрос\n",
    ")\n",
    "\n",
    "print(response)"
   ]
  }
 ],
 "metadata": {
  "language_info": {
   "name": "python"
  }
 },
 "nbformat": 4,
 "nbformat_minor": 2
}
